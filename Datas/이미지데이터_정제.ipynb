{
  "nbformat": 4,
  "nbformat_minor": 0,
  "metadata": {
    "colab": {
      "name": "00_이미지데이터_정제1.ipynb",
      "provenance": [],
      "collapsed_sections": []
    },
    "kernelspec": {
      "name": "python3",
      "display_name": "Python 3"
    },
    "language_info": {
      "name": "python"
    }
  },
  "cells": [
    {
      "cell_type": "markdown",
      "metadata": {
        "id": "Is5kfhR-6Ess"
      },
      "source": [
        "## 기본 세팅"
      ]
    },
    {
      "cell_type": "code",
      "metadata": {
        "colab": {
          "base_uri": "https://localhost:8080/"
        },
        "id": "J7V4Czzum9Cp",
        "outputId": "c0b09a48-cda6-4acf-db3b-00459966f65b"
      },
      "source": [
        "# 드라이브 마운트\n",
        "from google.colab import drive\n",
        "drive.mount('/content/drive')"
      ],
      "execution_count": 1,
      "outputs": [
        {
          "output_type": "stream",
          "name": "stdout",
          "text": [
            "Drive already mounted at /content/drive; to attempt to forcibly remount, call drive.mount(\"/content/drive\", force_remount=True).\n"
          ]
        }
      ]
    },
    {
      "cell_type": "code",
      "metadata": {
        "id": "nHrw6m08nBl1"
      },
      "source": [
        "# 모듈 import\n",
        "import pandas as pd\n",
        "import numpy as np\n",
        "import matplotlib.pyplot as plt\n",
        "import matplotlib.patches as patches\n",
        "\n",
        "from tqdm import tqdm\n",
        "from glob import glob\n",
        "\n",
        "import cv2\n",
        "import warnings\n",
        "import torch\n",
        "import json"
      ],
      "execution_count": 2,
      "outputs": []
    },
    {
      "cell_type": "code",
      "metadata": {
        "id": "D0IoKXszlQjv"
      },
      "source": [
        "%matplotlib inline"
      ],
      "execution_count": 3,
      "outputs": []
    },
    {
      "cell_type": "markdown",
      "metadata": {
        "id": "59zTpulvIx26"
      },
      "source": [
        "## 이미지 crop 및 df 생성"
      ]
    },
    {
      "cell_type": "code",
      "metadata": {
        "id": "DQVL-n71nADf"
      },
      "source": [
        "# 기본 path 설정\n",
        "path = '/content/drive/MyDrive/Data/PJT/'"
      ],
      "execution_count": 4,
      "outputs": []
    },
    {
      "cell_type": "code",
      "metadata": {
        "id": "cb1KSjJRLHth"
      },
      "source": [
        "# 새로 저장할 폴더 path 설정\n",
        "new_path = path + '대용량플라스틱통/'"
      ],
      "execution_count": 5,
      "outputs": []
    },
    {
      "cell_type": "code",
      "metadata": {
        "colab": {
          "base_uri": "https://localhost:8080/"
        },
        "id": "V31StnBbI2xn",
        "outputId": "20562e12-a98c-42b7-8b51-fe23387a0a85"
      },
      "source": [
        "# 사진 폴더 및 json 폴더 경로\n",
        "folder_list = sorted(glob(path+'img/대용량플라스틱통/*')) # 사진\n",
        "label_folder_list = sorted(glob(path+'json/대용량플라스틱통/*')) # json\n",
        "\n",
        "# 길이가 맞아야 합니다.. 정상적인 업로드가 됬다면 맞을 수 밖에 없음\n",
        "len(folder_list), len(label_folder_list) "
      ],
      "execution_count": 6,
      "outputs": [
        {
          "output_type": "execute_result",
          "data": {
            "text/plain": [
              "(479, 479)"
            ]
          },
          "metadata": {},
          "execution_count": 6
        }
      ]
    },
    {
      "cell_type": "code",
      "metadata": {
        "colab": {
          "base_uri": "https://localhost:8080/"
        },
        "id": "iUvKjL9DJE3_",
        "outputId": "fef8d6ec-135b-4250-d2af-4d2f0f961daa"
      },
      "source": [
        "# df 제작을 위한 배열 생성\n",
        "name_list = []\n",
        "class_list = []\n",
        "detail_list = []\n",
        "damage_list = []\n",
        "trans_list = []\n",
        "\n",
        "# 처음 데이터를 만들때 polygon 형태로 라벨링이 된 경우는 일단 제외\n",
        "# 폴리곤 형태면 (x1,y1) (x2,y2)로 받을 수 없고 리스트 형태로 좌표를 받아야함..\n",
        "poly_list = []\n",
        "\n",
        "# 새로 지정될 사진의 이름을 설정 ex) cup, bottle, basket ...\n",
        "name = 'big_plastic'\n",
        "count = 0\n",
        "\n",
        "for folder, label_folder in tqdm(zip(folder_list, label_folder_list)):\n",
        "  file_list = sorted(glob(folder+'/*'))\n",
        "  label_file_list = sorted(glob(label_folder+'/*'))\n",
        "\n",
        "  # 이미지 파일 read 및\n",
        "  for f, label in zip(file_list, label_file_list):\n",
        "    # json file read\n",
        "    with open(label, 'r') as ff:\n",
        "      json_data = json.load(ff)\n",
        "    \n",
        "    d = json_data['Bounding'][0]\n",
        "    \n",
        "    # image data\n",
        "    if d['Drawing'] == 'BOX':\n",
        "      new_name = name + str(count)\n",
        "      class_ = d['CLASS']\n",
        "      detail = d['DETAILS']\n",
        "      damage = d['DAMAGE']\n",
        "      trans = d['TRANSPARENCY']\n",
        "      x1 = int(d['x1'])\n",
        "      x2 = int(d['x2'])\n",
        "      y1 = int(d['y1'])\n",
        "      y2 = int(d['y2'])\n",
        "\n",
        "      # img crop\n",
        "      img = cv2.imread(f)\n",
        "      img = img[y1:y2, x1:x2]\n",
        "\n",
        "      # 새로 지정된 이름으로 저장\n",
        "      cv2.imwrite(new_path + new_name + '.jpg', img)\n",
        "\n",
        "      # 배열에 저장\n",
        "      name_list.append(new_name)\n",
        "      class_list.append(class_)\n",
        "      detail_list.append(detail)\n",
        "      damage_list.append(damage)\n",
        "      trans_list.append(trans)\n",
        "\n",
        "      count += 1\n",
        "    else:\n",
        "      poly_list.append(f.split('/')[-1])"
      ],
      "execution_count": 7,
      "outputs": [
        {
          "output_type": "stream",
          "name": "stderr",
          "text": [
            "479it [12:14,  1.53s/it]\n"
          ]
        }
      ]
    },
    {
      "cell_type": "code",
      "metadata": {
        "colab": {
          "base_uri": "https://localhost:8080/"
        },
        "id": "BKGnMrJHRblg",
        "outputId": "aa6e87e4-abb5-4ecb-a993-95de630e2d84"
      },
      "source": [
        "# 제외된 사진 갯수\n",
        "len(poly_list)"
      ],
      "execution_count": 8,
      "outputs": [
        {
          "output_type": "execute_result",
          "data": {
            "text/plain": [
              "35"
            ]
          },
          "metadata": {},
          "execution_count": 8
        }
      ]
    },
    {
      "cell_type": "code",
      "metadata": {
        "id": "MUYgtdv7XXcY"
      },
      "source": [
        "# dataframe 제작\n",
        "df = pd.DataFrame({'name':name_list,\n",
        "                   'class':class_list,\n",
        "                   'detail':detail_list,\n",
        "                   'damage':damage_list,\n",
        "                   'trans':trans_list})"
      ],
      "execution_count": 9,
      "outputs": []
    },
    {
      "cell_type": "code",
      "metadata": {
        "colab": {
          "base_uri": "https://localhost:8080/",
          "height": 204
        },
        "id": "4IHi6YSvZMJK",
        "outputId": "ed09dec1-3ade-4708-dc2d-91cc11e5f956"
      },
      "source": [
        "df.tail()"
      ],
      "execution_count": 10,
      "outputs": [
        {
          "output_type": "execute_result",
          "data": {
            "text/html": [
              "<div>\n",
              "<style scoped>\n",
              "    .dataframe tbody tr th:only-of-type {\n",
              "        vertical-align: middle;\n",
              "    }\n",
              "\n",
              "    .dataframe tbody tr th {\n",
              "        vertical-align: top;\n",
              "    }\n",
              "\n",
              "    .dataframe thead th {\n",
              "        text-align: right;\n",
              "    }\n",
              "</style>\n",
              "<table border=\"1\" class=\"dataframe\">\n",
              "  <thead>\n",
              "    <tr style=\"text-align: right;\">\n",
              "      <th></th>\n",
              "      <th>name</th>\n",
              "      <th>class</th>\n",
              "      <th>detail</th>\n",
              "      <th>damage</th>\n",
              "      <th>trans</th>\n",
              "    </tr>\n",
              "  </thead>\n",
              "  <tbody>\n",
              "    <tr>\n",
              "      <th>1234</th>\n",
              "      <td>big_plastic1234</td>\n",
              "      <td>플라스틱류</td>\n",
              "      <td>대용량플라스틱통</td>\n",
              "      <td>원형</td>\n",
              "      <td>불투명</td>\n",
              "    </tr>\n",
              "    <tr>\n",
              "      <th>1235</th>\n",
              "      <td>big_plastic1235</td>\n",
              "      <td>플라스틱류</td>\n",
              "      <td>대용량플라스틱통</td>\n",
              "      <td>원형</td>\n",
              "      <td>불투명</td>\n",
              "    </tr>\n",
              "    <tr>\n",
              "      <th>1236</th>\n",
              "      <td>big_plastic1236</td>\n",
              "      <td>플라스틱류</td>\n",
              "      <td>대용량플라스틱통</td>\n",
              "      <td>원형</td>\n",
              "      <td>불투명</td>\n",
              "    </tr>\n",
              "    <tr>\n",
              "      <th>1237</th>\n",
              "      <td>big_plastic1237</td>\n",
              "      <td>플라스틱류</td>\n",
              "      <td>대용량플라스틱통</td>\n",
              "      <td>원형</td>\n",
              "      <td>불투명</td>\n",
              "    </tr>\n",
              "    <tr>\n",
              "      <th>1238</th>\n",
              "      <td>big_plastic1238</td>\n",
              "      <td>플라스틱류</td>\n",
              "      <td>대용량플라스틱통</td>\n",
              "      <td>원형</td>\n",
              "      <td>불투명</td>\n",
              "    </tr>\n",
              "  </tbody>\n",
              "</table>\n",
              "</div>"
            ],
            "text/plain": [
              "                 name  class    detail damage trans\n",
              "1234  big_plastic1234  플라스틱류  대용량플라스틱통     원형   불투명\n",
              "1235  big_plastic1235  플라스틱류  대용량플라스틱통     원형   불투명\n",
              "1236  big_plastic1236  플라스틱류  대용량플라스틱통     원형   불투명\n",
              "1237  big_plastic1237  플라스틱류  대용량플라스틱통     원형   불투명\n",
              "1238  big_plastic1238  플라스틱류  대용량플라스틱통     원형   불투명"
            ]
          },
          "metadata": {},
          "execution_count": 10
        }
      ]
    },
    {
      "cell_type": "code",
      "metadata": {
        "colab": {
          "base_uri": "https://localhost:8080/",
          "height": 35
        },
        "id": "T3dpGKoiZWP9",
        "outputId": "261ea03c-e325-4f00-d0bb-9c33e8956152"
      },
      "source": [
        "path"
      ],
      "execution_count": 11,
      "outputs": [
        {
          "output_type": "execute_result",
          "data": {
            "application/vnd.google.colaboratory.intrinsic+json": {
              "type": "string"
            },
            "text/plain": [
              "'/content/drive/MyDrive/Data/PJT/'"
            ]
          },
          "metadata": {},
          "execution_count": 11
        }
      ]
    },
    {
      "cell_type": "code",
      "metadata": {
        "id": "MPZgvF8UZR5L"
      },
      "source": [
        "df.to_csv(path+'big_plastic.csv', index=False)"
      ],
      "execution_count": 12,
      "outputs": []
    },
    {
      "cell_type": "code",
      "metadata": {
        "id": "9OZ0ik80aUq1"
      },
      "source": [
        ""
      ],
      "execution_count": null,
      "outputs": []
    }
  ]
}