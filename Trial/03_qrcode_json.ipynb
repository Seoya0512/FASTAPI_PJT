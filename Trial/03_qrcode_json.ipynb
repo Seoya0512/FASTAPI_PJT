{
  "cells": [
    {
      "cell_type": "code",
      "execution_count": 36,
      "metadata": {
        "colab": {
          "base_uri": "https://localhost:8080/"
        },
        "id": "HelDtnvwxaXW",
        "outputId": "c90d3e9c-feda-4105-814d-55ae1106feb0"
      },
      "outputs": [
        {
          "name": "stdout",
          "output_type": "stream",
          "text": [
            "Collecting qrcode\n",
            "  Downloading qrcode-7.3.1.tar.gz (43 kB)\n",
            "\u001b[?25l\r\u001b[K     |███████▌                        | 10 kB 22.2 MB/s eta 0:00:01\r\u001b[K     |███████████████                 | 20 kB 11.1 MB/s eta 0:00:01\r\u001b[K     |██████████████████████▋         | 30 kB 8.9 MB/s eta 0:00:01\r\u001b[K     |██████████████████████████████▏ | 40 kB 8.0 MB/s eta 0:00:01\r\u001b[K     |████████████████████████████████| 43 kB 1.2 MB/s \n",
            "\u001b[?25hBuilding wheels for collected packages: qrcode\n",
            "  Building wheel for qrcode (setup.py) ... \u001b[?25l\u001b[?25hdone\n",
            "  Created wheel for qrcode: filename=qrcode-7.3.1-py3-none-any.whl size=40401 sha256=0407855e37c0c84c6afef552c58bfcbee6bb831f49e774d0045f0c64377be510\n",
            "  Stored in directory: /root/.cache/pip/wheels/93/d7/39/a4111be2cfb8e679938aa671a37888b6afb1f9e7d748e94492\n",
            "Successfully built qrcode\n",
            "Installing collected packages: qrcode\n",
            "Successfully installed qrcode-7.3.1\n"
          ]
        }
      ],
      "source": [
        "!pip install qrcode"
      ]
    },
    {
      "cell_type": "code",
      "execution_count": null,
      "metadata": {
        "colab": {
          "base_uri": "https://localhost:8080/"
        },
        "id": "EnoEMb5_xFmH",
        "outputId": "84f6d73f-511e-4c8b-f4ee-864a61a328fa"
      },
      "outputs": [
        {
          "name": "stdout",
          "output_type": "stream",
          "text": [
            "<class 'qrcode.image.pil.PilImage'>\n",
            "(370, 370)\n"
          ]
        }
      ],
      "source": [
        "# QR 코드 \n",
        "import qrcode\n",
        "\n",
        "img = qrcode.make('로그인페이지로이동합니다')\n",
        "img.save('login.png')\n",
        "print(type(img))\n",
        "print(img.size)"
      ]
    },
    {
      "cell_type": "code",
      "execution_count": 38,
      "metadata": {
        "colab": {
          "base_uri": "https://localhost:8080/"
        },
        "id": "rCLZOpHzzUtZ",
        "outputId": "62ab19d6-d805-4362-dc0e-f9702dcffc79"
      },
      "outputs": [
        {
          "name": "stdout",
          "output_type": "stream",
          "text": [
            "<class 'qrcode.image.pil.PilImage'>\n",
            "(410, 410)\n"
          ]
        }
      ],
      "source": [
        "# 웹사이트는 public url 사용해야함 \n",
        "\n",
        "# QR 코드 \n",
        "import qrcode\n",
        "img = qrcode.make('http://ff06-114-203-149-236.ngrok.io/pet/?id=abc&pet_num=5')\n",
        "img.save('petinfo.png')\n",
        "print(type(img))\n",
        "print(img.size)"
      ]
    },
    {
      "cell_type": "markdown",
      "metadata": {
        "id": "XdPZhBStgiIP"
      },
      "source": [
        "# Json File 생성 및 다뤄보기"
      ]
    },
    {
      "cell_type": "code",
      "execution_count": 34,
      "metadata": {
        "colab": {
          "base_uri": "https://localhost:8080/"
        },
        "id": "b7B20xz4z3Bs",
        "outputId": "04ef3551-b9a3-402e-99df-ff759a2e2b41"
      },
      "outputs": [
        {
          "name": "stdout",
          "output_type": "stream",
          "text": [
            "{'abc': '1234', 'bcd': '2345', 'cdef': '3456'}\n",
            "<class 'dict'>\n"
          ]
        }
      ],
      "source": [
        "import json \n",
        "\n",
        "dict1 = {'abc': '1234', 'bcd' : '2345', 'cdef' : '3456'}\n",
        "with open('account.json', 'w') as fp:\n",
        "  json.dump(dict1, fp)\n",
        "\n",
        "with open('account.json', 'r') as fp:\n",
        "    account = json.load(fp)\n",
        "print(account)\n",
        "print(type(account))"
      ]
    },
    {
      "cell_type": "code",
      "execution_count": 35,
      "metadata": {
        "colab": {
          "base_uri": "https://localhost:8080/"
        },
        "id": "S_EBJP_sX_GL",
        "outputId": "13fa1a5f-45c3-4aee-fea9-eb7f870592e0"
      },
      "outputs": [
        {
          "name": "stdout",
          "output_type": "stream",
          "text": [
            "{'abc': 20, 'bcd': 5, 'cdef': 35}\n",
            "<class 'dict'>\n"
          ]
        }
      ],
      "source": [
        "dict2 = {'abc': 20, 'bcd' : 5, 'cdef' : 35}\n",
        "with open('pet_num.json', 'w') as fp:\n",
        "  json.dump(dict2, fp)\n",
        "\n",
        "with open('pet_num.json', 'r') as fp:\n",
        "    data = json.load(fp)\n",
        "print(data)\n",
        "print(type(data))"
      ]
    },
    {
      "cell_type": "code",
      "execution_count": 6,
      "metadata": {
        "colab": {
          "base_uri": "https://localhost:8080/"
        },
        "id": "2PVKHJB7ZhZ5",
        "outputId": "fe6d4cf5-d421-4ba1-c98a-26f23f95e04d"
      },
      "outputs": [
        {
          "data": {
            "text/plain": [
              "dict_keys(['abc', 'bcd', 'cdef'])"
            ]
          },
          "execution_count": 6,
          "metadata": {},
          "output_type": "execute_result"
        }
      ],
      "source": [
        "# 데이터 읽어오기 \n",
        "account.keys()"
      ]
    },
    {
      "cell_type": "code",
      "execution_count": 7,
      "metadata": {
        "colab": {
          "base_uri": "https://localhost:8080/"
        },
        "id": "LdnLh_1Ia6jl",
        "outputId": "8ac0d0d2-32d0-4977-ca87-cce4fac32f0d"
      },
      "outputs": [
        {
          "name": "stdout",
          "output_type": "stream",
          "text": [
            "abc\n",
            "1234\n",
            "5\n",
            "{'abc': 25, 'bcd': 5, 'cdef': 35}\n"
          ]
        }
      ],
      "source": [
        "# 로그인 \n",
        "id = input()\n",
        "pw = input()\n",
        "\n",
        "# 페트병 개수 \n",
        "pet_num = int(input())\n",
        "\n",
        "if id in account.keys():\n",
        "  data[id]+= pet_num\n",
        "  print(data)\n",
        "else:\n",
        "  new_m = {id : pw}\n",
        "  new_m_p = {id : pet_num}\n",
        "  account.update(new_m)\n",
        "  data.update(new_m_p)\n",
        "  print(account)\n",
        "  print(data)"
      ]
    }
  ],
  "metadata": {
    "colab": {
      "collapsed_sections": [],
      "name": "qrcode_json.ipynb",
      "provenance": []
    },
    "kernelspec": {
      "display_name": "Python 3",
      "name": "python3"
    },
    "language_info": {
      "name": "python"
    }
  },
  "nbformat": 4,
  "nbformat_minor": 0
}
