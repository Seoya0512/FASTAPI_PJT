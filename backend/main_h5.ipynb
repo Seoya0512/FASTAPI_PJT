{
 "cells": [
  {
   "cell_type": "code",
   "execution_count": null,
   "metadata": {},
   "outputs": [],
   "source": [
    "# colab 실행시 필요한 다운로드\n",
    "\n",
    "#Fast api \n",
    "#!pip install fastapi nest-asyncio pyngrok uvicorn\n",
    "# !pip install aiofiles\n",
    "\n",
    "#qr 코드\n",
    "#!pip install qrcode\n",
    "\n",
    "# yolov4 사용 하려면 4.4.0 버전 이상 OpenCv를 사용해야 함\n",
    "#!pip install --upgrade opencv-python"
   ]
  },
  {
   "cell_type": "code",
   "execution_count": 1,
   "metadata": {},
   "outputs": [],
   "source": [
    "# 필요한 라이브러리 당겨오기 \n",
    "from typing import Optional\n",
    "# Pydantic을 이용해 파이썬 표준 타입으로 분문을 선언 \n",
    "from pydantic import BaseModel\n",
    "import nest_asyncio\n",
    "from pyngrok import ngrok\n",
    "import uvicorn\n",
    "\n",
    "# json, qrcode 라이브러리 가져오기 \n",
    "import json\n",
    "import qrcode\n",
    "\n",
    "# FastAPI  및 웹 관련 라이브러리 가져오기 \n",
    "from fastapi import FastAPI\n",
    "from fastapi import Request\n",
    "from fastapi.staticfiles import StaticFiles #new\n",
    "from fastapi.templating import Jinja2Templates\n",
    "from fastapi import HTTPException\n",
    "from core.config import settings\n",
    "from apis.general_pages.route_homepage import general_pages_router\n",
    "from fastapi.responses import HTMLResponse\n",
    "\n",
    "# 모델 2 필요한 것 \n",
    "import cv2\n",
    "import numpy as np\n",
    "# from google.colab.patches import cv2_imshow # colab에서는 이걸 사용해야함\n",
    "from glob import glob\n",
    "\n",
    "# json 데이터 가져오기 \n",
    "with open('account.json', 'r') as f:\n",
    "    account = json.load(f)\n",
    "with open('pet_num.json', 'r') as fp:\n",
    "    data = json.load(fp)\n",
    "\n",
    "\n",
    "classes = []\n",
    "# class의 이름들\n",
    "with open(\"./data/custom.names\", \"r\") as f:\n",
    "    classes = [line.strip() for line in f.readlines()]\n",
    "\n",
    "# py 파일 가져오기 \n",
    "\n",
    "\n",
    "# 경고 무시하기 \n",
    "import warnings\n",
    "warnings.filterwarnings('ignore')"
   ]
  },
  {
   "cell_type": "code",
   "execution_count": 2,
   "metadata": {},
   "outputs": [],
   "source": [
    "# ocr로 사용자의 정보를 입력 받는다 \n",
    "# Module 1 : 사진파일 >> 텍스트 \n",
    "def call_picture(pic):\n",
    "  import json\n",
    "  import base64\n",
    "  import requests\n",
    "\n",
    "  f = open(pic, \"rb\")\n",
    "  img = base64.b64encode(f.read())\n",
    "\n",
    "  # 본인의 APIGW Invoke URL로 치환\n",
    "  URL = \"https://753be9f191e84997b6a1cb14d20ae459.apigw.ntruss.com/custom/v1/12797/d9761cebea7a1a7d2cae3aa32323831aaa6470b73fe9316b6b54ad0fead46926/infer\"\n",
    "      \n",
    "  # 본인의 Secret Key로 치환\n",
    "  KEY = \"R3JJZWN3cW1EaXFLcXRocGV5ek5ORERLQlJ2VEFQWFA=\"\n",
    "      \n",
    "  headers = {\n",
    "      \"Content-Type\": \"application/json\",\n",
    "      \"X-OCR-SECRET\": KEY\n",
    "  }\n",
    "      \n",
    "  data = {\n",
    "      \"version\": \"V2\",\n",
    "      \"requestId\": \"string\",\n",
    "      \"timestamp\": 0,         # 현재 시간값\n",
    "      \"lang\":\"ko\",\n",
    "      \"images\": [\n",
    "          {\n",
    "              \"name\": \"sample_image\",\n",
    "              \"format\": \"png\",\n",
    "              \"data\": img.decode('utf-8')\n",
    "            # \"templateIds\": [400]  # 설정하지 않을 경우, 자동으로 템플릿을 찾음 \n",
    "          }\n",
    "      ]\n",
    "  }\n",
    "  data = json.dumps(data)\n",
    "  response = requests.post(URL, data=data, headers=headers)\n",
    "  res = json.loads(response.text)\n",
    "  #name = res['images'][0]['matchedTemplate']['name']     # 약이름만 추출 \n",
    "  id = res['images'][0]['title']['inferText']\n",
    "  return id"
   ]
  },
  {
   "cell_type": "code",
   "execution_count": 15,
   "metadata": {},
   "outputs": [
    {
     "data": {
      "text/plain": [
       "'PET102'"
      ]
     },
     "execution_count": 15,
     "metadata": {},
     "output_type": "execute_result"
    }
   ],
   "source": [
    "# 카드에서 사용자 ID 인식하기 (OCR 이용)\n",
    "call_picture('pet_card2.jpg')"
   ]
  },
  {
   "cell_type": "markdown",
   "metadata": {},
   "source": [
    "해야하는 일 : 성능이 조금더 높은 h5 모델 불러와서 사용해보기 "
   ]
  },
  {
   "cell_type": "code",
   "execution_count": 5,
   "metadata": {},
   "outputs": [
    {
     "name": "stderr",
     "output_type": "stream",
     "text": [
      "2021-12-02 19:09:29.576411: I tensorflow/core/platform/cpu_feature_guard.cc:151] This TensorFlow binary is optimized with oneAPI Deep Neural Network Library (oneDNN) to use the following CPU instructions in performance-critical operations:  AVX2 FMA\n",
      "To enable them in other operations, rebuild TensorFlow with the appropriate compiler flags.\n"
     ]
    }
   ],
   "source": [
    "# Module 2 : .h5 모델 불러오기 \n",
    "from tensorflow.python.keras.models import load_model\n",
    "model = load_model('PET_model_V3.h5')"
   ]
  },
  {
   "cell_type": "code",
   "execution_count": 4,
   "metadata": {},
   "outputs": [],
   "source": [
    "# Module 2 : pass or fail 알려주고 확인하기 \n",
    "# 올바르게 분류 됐으면 \"올바르게 분류 됐습니다.\"\n",
    "# 올바르게 분류 되지 않았으면 \"방법에 맞게 분류해주세요.\"\n",
    "\n",
    "# 작업 해야함 "
   ]
  },
  {
   "cell_type": "code",
   "execution_count": 5,
   "metadata": {},
   "outputs": [],
   "source": [
    "# 아이디, 페트병 개수, 리워드 현황 출력 \n",
    "# json 파일로 변경사항 저장 \n",
    "def pet_sum(user_id:str, pet_num:int):\n",
    "  if user_id in list(data.keys()):\n",
    "    data[user_id]+= pet_num\n",
    "    with open('pet_num.json', 'w') as fp:\n",
    "      json.dump(data,fp)\n",
    "    return data[user_id]\n",
    "  else:\n",
    "    new_m_p = {user_id : pet_num}\n",
    "    data.update(new_m_p)\n",
    "    with open('pet_num.json', 'w') as fp:\n",
    "      json.dump(data,fp)\n",
    "    return data[user_id]"
   ]
  },
  {
   "cell_type": "code",
   "execution_count": 6,
   "metadata": {},
   "outputs": [
    {
     "name": "stderr",
     "output_type": "stream",
     "text": [
      "INFO:     Started server process [13712]\n",
      "INFO:     Waiting for application startup.\n",
      "INFO:     Application startup complete.\n",
      "INFO:     Uvicorn running on http://127.0.0.1:8000 (Press CTRL+C to quit)\n"
     ]
    },
    {
     "name": "stdout",
     "output_type": "stream",
     "text": [
      "Public URL: http://c8fb-114-203-149-236.ngrok.io\n"
     ]
    },
    {
     "name": "stderr",
     "output_type": "stream",
     "text": [
      "[ WARN:0] global /Users/runner/work/opencv-python/opencv-python/opencv/modules/dnn/src/dnn.cpp (1447) setUpNet DNN module was not built with CUDA backend; switching to CPU\n",
      "[ WARN:0] global /Users/runner/work/opencv-python/opencv-python/opencv/modules/dnn/src/dnn.cpp (1447) setUpNet DNN module was not built with CUDA backend; switching to CPU\n",
      "[ WARN:0] global /Users/runner/work/opencv-python/opencv-python/opencv/modules/dnn/src/dnn.cpp (1447) setUpNet DNN module was not built with CUDA backend; switching to CPU\n",
      "[ WARN:0] global /Users/runner/work/opencv-python/opencv-python/opencv/modules/dnn/src/dnn.cpp (1447) setUpNet DNN module was not built with CUDA backend; switching to CPU\n"
     ]
    },
    {
     "name": "stdout",
     "output_type": "stream",
     "text": [
      "[clean(0)] conf: 0.4139142632484436 / x: 774 / y: 403 / width: 1175 / height: 3670\n"
     ]
    },
    {
     "name": "stderr",
     "output_type": "stream",
     "text": [
      "[ WARN:0] global /Users/runner/work/opencv-python/opencv-python/opencv/modules/dnn/src/dnn.cpp (1447) setUpNet DNN module was not built with CUDA backend; switching to CPU\n"
     ]
    },
    {
     "name": "stdout",
     "output_type": "stream",
     "text": [
      "[label(1)] conf: 0.5536813735961914 / x: 335 / y: 797 / width: 2069 / height: 3107\n"
     ]
    },
    {
     "name": "stderr",
     "output_type": "stream",
     "text": [
      "[ WARN:0] global /Users/runner/work/opencv-python/opencv-python/opencv/modules/dnn/src/dnn.cpp (1447) setUpNet DNN module was not built with CUDA backend; switching to CPU\n"
     ]
    },
    {
     "name": "stdout",
     "output_type": "stream",
     "text": [
      "[label(1)] conf: 0.4183119237422943 / x: 492 / y: 541 / width: 1742 / height: 3488\n"
     ]
    },
    {
     "name": "stderr",
     "output_type": "stream",
     "text": [
      "[ WARN:0] global /Users/runner/work/opencv-python/opencv-python/opencv/modules/dnn/src/dnn.cpp (1447) setUpNet DNN module was not built with CUDA backend; switching to CPU\n",
      "[ WARN:0] global /Users/runner/work/opencv-python/opencv-python/opencv/modules/dnn/src/dnn.cpp (1447) setUpNet DNN module was not built with CUDA backend; switching to CPU\n",
      "[ WARN:0] global /Users/runner/work/opencv-python/opencv-python/opencv/modules/dnn/src/dnn.cpp (1447) setUpNet DNN module was not built with CUDA backend; switching to CPU\n",
      "[ WARN:0] global /Users/runner/work/opencv-python/opencv-python/opencv/modules/dnn/src/dnn.cpp (1447) setUpNet DNN module was not built with CUDA backend; switching to CPU\n"
     ]
    },
    {
     "name": "stdout",
     "output_type": "stream",
     "text": [
      "[label(1)] conf: 0.43940865993499756 / x: 867 / y: 281 / width: 1695 / height: 3108\n"
     ]
    },
    {
     "name": "stderr",
     "output_type": "stream",
     "text": [
      "[ WARN:0] global /Users/runner/work/opencv-python/opencv-python/opencv/modules/dnn/src/dnn.cpp (1447) setUpNet DNN module was not built with CUDA backend; switching to CPU\n",
      "[ WARN:0] global /Users/runner/work/opencv-python/opencv-python/opencv/modules/dnn/src/dnn.cpp (1447) setUpNet DNN module was not built with CUDA backend; switching to CPU\n",
      "[ WARN:0] global /Users/runner/work/opencv-python/opencv-python/opencv/modules/dnn/src/dnn.cpp (1447) setUpNet DNN module was not built with CUDA backend; switching to CPU\n"
     ]
    },
    {
     "name": "stdout",
     "output_type": "stream",
     "text": [
      "[label(1)] conf: 0.5120484232902527 / x: 970 / y: -48 / width: 1485 / height: 3847\n"
     ]
    },
    {
     "name": "stderr",
     "output_type": "stream",
     "text": [
      "[ WARN:0] global /Users/runner/work/opencv-python/opencv-python/opencv/modules/dnn/src/dnn.cpp (1447) setUpNet DNN module was not built with CUDA backend; switching to CPU\n",
      "[ WARN:0] global /Users/runner/work/opencv-python/opencv-python/opencv/modules/dnn/src/dnn.cpp (1447) setUpNet DNN module was not built with CUDA backend; switching to CPU\n"
     ]
    },
    {
     "name": "stdout",
     "output_type": "stream",
     "text": [
      "[label(1)] conf: 0.4217129945755005 / x: 2515 / y: 2832 / width: 492 / height: 1201\n"
     ]
    },
    {
     "name": "stderr",
     "output_type": "stream",
     "text": [
      "[ WARN:0] global /Users/runner/work/opencv-python/opencv-python/opencv/modules/dnn/src/dnn.cpp (1447) setUpNet DNN module was not built with CUDA backend; switching to CPU\n",
      "[ WARN:0] global /Users/runner/work/opencv-python/opencv-python/opencv/modules/dnn/src/dnn.cpp (1447) setUpNet DNN module was not built with CUDA backend; switching to CPU\n",
      "[ WARN:0] global /Users/runner/work/opencv-python/opencv-python/opencv/modules/dnn/src/dnn.cpp (1447) setUpNet DNN module was not built with CUDA backend; switching to CPU\n"
     ]
    },
    {
     "name": "stdout",
     "output_type": "stream",
     "text": [
      "[label(1)] conf: 0.5119865536689758 / x: 444 / y: 35 / width: 1821 / height: 3608\n"
     ]
    },
    {
     "name": "stderr",
     "output_type": "stream",
     "text": [
      "[ WARN:0] global /Users/runner/work/opencv-python/opencv-python/opencv/modules/dnn/src/dnn.cpp (1447) setUpNet DNN module was not built with CUDA backend; switching to CPU\n",
      "[ WARN:0] global /Users/runner/work/opencv-python/opencv-python/opencv/modules/dnn/src/dnn.cpp (1447) setUpNet DNN module was not built with CUDA backend; switching to CPU\n"
     ]
    },
    {
     "name": "stdout",
     "output_type": "stream",
     "text": [
      "[clean(3)] conf: 0.44424572587013245 / x: 955 / y: 661 / width: 1416 / height: 3092\n"
     ]
    },
    {
     "name": "stderr",
     "output_type": "stream",
     "text": [
      "[ WARN:0] global /Users/runner/work/opencv-python/opencv-python/opencv/modules/dnn/src/dnn.cpp (1447) setUpNet DNN module was not built with CUDA backend; switching to CPU\n"
     ]
    },
    {
     "name": "stdout",
     "output_type": "stream",
     "text": [
      "[clean(3)] conf: 0.49648359417915344 / x: 741 / y: 493 / width: 1257 / height: 3360\n"
     ]
    },
    {
     "name": "stderr",
     "output_type": "stream",
     "text": [
      "[ WARN:0] global /Users/runner/work/opencv-python/opencv-python/opencv/modules/dnn/src/dnn.cpp (1447) setUpNet DNN module was not built with CUDA backend; switching to CPU\n"
     ]
    },
    {
     "name": "stdout",
     "output_type": "stream",
     "text": [
      "[label(3)] conf: 0.4637562334537506 / x: 624 / y: 814 / width: 1468 / height: 2662\n"
     ]
    },
    {
     "name": "stderr",
     "output_type": "stream",
     "text": [
      "[ WARN:0] global /Users/runner/work/opencv-python/opencv-python/opencv/modules/dnn/src/dnn.cpp (1447) setUpNet DNN module was not built with CUDA backend; switching to CPU\n"
     ]
    },
    {
     "name": "stdout",
     "output_type": "stream",
     "text": [
      "[clean(4)] conf: 0.4549922049045563 / x: 953 / y: 91 / width: 1450 / height: 3527\n"
     ]
    },
    {
     "name": "stderr",
     "output_type": "stream",
     "text": [
      "[ WARN:0] global /Users/runner/work/opencv-python/opencv-python/opencv/modules/dnn/src/dnn.cpp (1447) setUpNet DNN module was not built with CUDA backend; switching to CPU\n"
     ]
    },
    {
     "name": "stdout",
     "output_type": "stream",
     "text": [
      "[clean(2)] conf: 0.41822656989097595 / x: 853 / y: 788 / width: 1587 / height: 2875\n"
     ]
    },
    {
     "name": "stderr",
     "output_type": "stream",
     "text": [
      "[ WARN:0] global /Users/runner/work/opencv-python/opencv-python/opencv/modules/dnn/src/dnn.cpp (1447) setUpNet DNN module was not built with CUDA backend; switching to CPU\n",
      "[ WARN:0] global /Users/runner/work/opencv-python/opencv-python/opencv/modules/dnn/src/dnn.cpp (1447) setUpNet DNN module was not built with CUDA backend; switching to CPU\n",
      "[ WARN:0] global /Users/runner/work/opencv-python/opencv-python/opencv/modules/dnn/src/dnn.cpp (1447) setUpNet DNN module was not built with CUDA backend; switching to CPU\n",
      "[ WARN:0] global /Users/runner/work/opencv-python/opencv-python/opencv/modules/dnn/src/dnn.cpp (1447) setUpNet DNN module was not built with CUDA backend; switching to CPU\n"
     ]
    },
    {
     "name": "stdout",
     "output_type": "stream",
     "text": [
      "INFO:     127.0.0.1:62779 - \"GET /pet/ HTTP/1.1\" 200 OK\n"
     ]
    },
    {
     "name": "stderr",
     "output_type": "stream",
     "text": [
      "[ WARN:0] global /Users/runner/work/opencv-python/opencv-python/opencv/modules/dnn/src/dnn.cpp (1447) setUpNet DNN module was not built with CUDA backend; switching to CPU\n"
     ]
    },
    {
     "name": "stdout",
     "output_type": "stream",
     "text": [
      "INFO:     127.0.0.1:62779 - \"GET /static/images/nolabel.png HTTP/1.1\" 200 OK\n"
     ]
    },
    {
     "name": "stderr",
     "output_type": "stream",
     "text": [
      "INFO:     Shutting down\n",
      "INFO:     Waiting for application shutdown.\n",
      "INFO:     Application shutdown complete.\n",
      "INFO:     Finished server process [13712]\n"
     ]
    }
   ],
   "source": [
    "# Module 3 : API로 결과 출력 \n",
    "\n",
    "templates = Jinja2Templates(directory=\"templates\")\n",
    "\n",
    "def include_router(app):\n",
    "    app.include_router(general_pages_router)\n",
    "\n",
    "\n",
    "def configure_static(app):  #new\n",
    "    app.mount(\"/static\", StaticFiles(directory=\"static\"), name=\"static\")\n",
    "\n",
    "\n",
    "def start_application():\n",
    "    app = FastAPI(title=settings.PROJECT_NAME,version=settings.PROJECT_VERSION)\n",
    "    include_router(app)\n",
    "    configure_static(app) #new\n",
    "    return app\n",
    "\n",
    "app = start_application()\n",
    "\n",
    "# 웹페이지만 나옴 \n",
    "@app.get('/login/')\n",
    "def login(request: Request):\n",
    "    return templates.TemplateResponse(\"auth/login.html\", {\"request\": request})\n",
    "\n",
    "# 페트병 개수 \n",
    "@app.get('/pet/', response_class=HTMLResponse)\n",
    "async def pet(request: Request):\n",
    "    # 사용자 정보 \n",
    "    card = 'pet_card.jpg'\n",
    "    user_id = call_picture(card)\n",
    "    # 페드병 개수 \n",
    "    image_list = glob('./image/*/*/*.jpg')\n",
    "    pet_num = pet_total(image_list)\n",
    "\n",
    "    # 결과\n",
    "    result = pet_sum(user_id, pet_num)\n",
    "    img = qrcode.make(f'{ngrok_tunnel.public_url}/pet/?pet_num={pet_num}')\n",
    "    img.save('result.png')\n",
    "    return templates.TemplateResponse(\"main.html\", {\"request\": request, 'id':user_id, 'pet_num':result})\n",
    "\n",
    "\n",
    "ngrok_tunnel = ngrok.connect(8000)\n",
    "print('Public URL:', ngrok_tunnel.public_url)\n",
    "nest_asyncio.apply()\n",
    "uvicorn.run(app, port=8000)"
   ]
  },
  {
   "cell_type": "code",
   "execution_count": null,
   "metadata": {},
   "outputs": [],
   "source": []
  },
  {
   "cell_type": "code",
   "execution_count": null,
   "metadata": {},
   "outputs": [],
   "source": []
  }
 ],
 "metadata": {
  "interpreter": {
   "hash": "c725d78b4f5601c8a85ce6b1d2fdb2e37cff07ced64b275a1bb2fdc836d1f30a"
  },
  "kernelspec": {
   "display_name": "Python 3.9.7 64-bit ('base': conda)",
   "name": "python3"
  },
  "language_info": {
   "codemirror_mode": {
    "name": "ipython",
    "version": 3
   },
   "file_extension": ".py",
   "mimetype": "text/x-python",
   "name": "python",
   "nbconvert_exporter": "python",
   "pygments_lexer": "ipython3",
   "version": "3.9.7"
  },
  "orig_nbformat": 4
 },
 "nbformat": 4,
 "nbformat_minor": 2
}
