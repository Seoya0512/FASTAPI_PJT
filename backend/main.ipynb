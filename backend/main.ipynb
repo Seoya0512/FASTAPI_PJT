{
 "cells": [
  {
   "cell_type": "code",
   "execution_count": 1,
   "metadata": {},
   "outputs": [],
   "source": [
    "from typing import Optional\n",
    "\n",
    "# Pydantic을 이용해 파이썬 표준 타입으로 분문을 선언 \n",
    "from pydantic import BaseModel\n",
    "\n",
    "import nest_asyncio\n",
    "from pyngrok import ngrok\n",
    "import uvicorn\n",
    "import json"
   ]
  },
  {
   "cell_type": "code",
   "execution_count": 2,
   "metadata": {},
   "outputs": [
    {
     "name": "stdout",
     "output_type": "stream",
     "text": [
      "{'abc': '1234', 'bcd': '2345', 'cdef': '3456'}\n"
     ]
    }
   ],
   "source": [
    "with open('account.json', 'r') as fp:\n",
    "    account = json.load(fp)\n",
    "print(account)"
   ]
  },
  {
   "cell_type": "code",
   "execution_count": 3,
   "metadata": {},
   "outputs": [
    {
     "name": "stdout",
     "output_type": "stream",
     "text": [
      "{'abc': 20, 'bcd': 5, 'cdef': 35}\n"
     ]
    }
   ],
   "source": [
    "with open('pet_num.json', 'r') as fp:\n",
    "    data = json.load(fp)\n",
    "print(data)"
   ]
  },
  {
   "cell_type": "code",
   "execution_count": 4,
   "metadata": {},
   "outputs": [],
   "source": [
    "def pet_sum(id:str, pet_num:int):\n",
    "  if id in list(data.keys()):\n",
    "    data[id]+= pet_num\n",
    "    return data[id]\n",
    "  else:\n",
    "    new_m_p = {id : pet_num}\n",
    "    data.update(new_m_p)\n",
    "    return data[id]"
   ]
  },
  {
   "cell_type": "code",
   "execution_count": 5,
   "metadata": {},
   "outputs": [
    {
     "name": "stderr",
     "output_type": "stream",
     "text": [
      "INFO:     Started server process [6714]\n",
      "INFO:     Waiting for application startup.\n",
      "INFO:     Application startup complete.\n",
      "INFO:     Uvicorn running on http://127.0.0.1:8000 (Press CTRL+C to quit)\n"
     ]
    },
    {
     "name": "stdout",
     "output_type": "stream",
     "text": [
      "Public URL: http://3bf7-114-203-149-236.ngrok.io\n",
      "INFO:     127.0.0.1:55648 - \"GET /pet/?user_id=abc&pet_num=10 HTTP/1.1\" 200 OK\n",
      "INFO:     127.0.0.1:55649 - \"GET /pet/?user_id=abc&pet_num=20 HTTP/1.1\" 200 OK\n",
      "INFO:     127.0.0.1:55649 - \"GET /static/images/nolabel.png HTTP/1.1\" 304 Not Modified\n"
     ]
    }
   ],
   "source": [
    "from fastapi import FastAPI\n",
    "from fastapi import Request\n",
    "from fastapi.staticfiles import StaticFiles #new\n",
    "from fastapi.templating import Jinja2Templates\n",
    "from fastapi import HTTPException\n",
    "from core.config import settings\n",
    "from apis.general_pages.route_homepage import general_pages_router\n",
    "from fastapi.responses import HTMLResponse\n",
    "\n",
    "templates = Jinja2Templates(directory=\"templates\")\n",
    "\n",
    "def include_router(app):\n",
    "    app.include_router(general_pages_router)\n",
    "\n",
    "\n",
    "def configure_static(app):  #new\n",
    "    app.mount(\"/static\", StaticFiles(directory=\"static\"), name=\"static\")\n",
    "\n",
    "\n",
    "def start_application():\n",
    "    app = FastAPI(title=settings.PROJECT_NAME,version=settings.PROJECT_VERSION)\n",
    "    include_router(app)\n",
    "    configure_static(app) #new\n",
    "    return app\n",
    "\n",
    "app = start_application()\n",
    "\n",
    "# 웹페이지만 나옴 \n",
    "@app.get('/login/')\n",
    "def login(request: Request):\n",
    "    return templates.TemplateResponse(\"auth/login.html\", {\"request\": request})\n",
    "\n",
    "# 로그인 결과 출력 \n",
    "@app.get('/login/result')\n",
    "def info(request: Request, id:str, pw:str):\n",
    "    if id in account.keys():\n",
    "        if account[id] == pw:\n",
    "            print('pass')\n",
    "            return {f'{id}님 성공적으로 로그인하셨습니다.'}\n",
    "        else:\n",
    "            print('fail')\n",
    "            return{'비밀번호를 잘못 입력하셨습니다. 다시 로그인해주세요.'}\n",
    "    else:\n",
    "      return {'회원가입 후 시도해주세요.'}\n",
    "\n",
    "# 페트병 개수 \n",
    "@app.get('/pet/', response_class=HTMLResponse)\n",
    "async def pet(request: Request, user_id:str, pet_num:int):\n",
    "    result = pet_sum(user_id, pet_num)\n",
    "    return templates.TemplateResponse(\"main.html\", {\"request\": request, 'id':user_id, 'pet_num':result})\n",
    "\n",
    "ngrok_tunnel = ngrok.connect(8000)\n",
    "print('Public URL:', ngrok_tunnel.public_url)\n",
    "nest_asyncio.apply()\n",
    "uvicorn.run(app, port=8000)"
   ]
  },
  {
   "cell_type": "markdown",
   "metadata": {},
   "source": [
    "# 미 해결과제 (HELP)\n",
    "\n",
    "1. 데이터 업로드(사용자, 패트병 수)된 내용 json으로 다시 저장 및 업데이트 하기 \n",
    "    - 참고 : fastapi로 작동해서 데이터는 올라가는데, 파일 형식으로 다시 저장해야할듯 \n",
    "2. qr코드 인식은 되지만 한 프로세스로 연결할 필요가 있어보임! "
   ]
  },
  {
   "cell_type": "code",
   "execution_count": null,
   "metadata": {},
   "outputs": [],
   "source": []
  }
 ],
 "metadata": {
  "interpreter": {
   "hash": "c725d78b4f5601c8a85ce6b1d2fdb2e37cff07ced64b275a1bb2fdc836d1f30a"
  },
  "kernelspec": {
   "display_name": "Python 3.9.7 64-bit ('base': conda)",
   "name": "python3"
  },
  "language_info": {
   "codemirror_mode": {
    "name": "ipython",
    "version": 3
   },
   "file_extension": ".py",
   "mimetype": "text/x-python",
   "name": "python",
   "nbconvert_exporter": "python",
   "pygments_lexer": "ipython3",
   "version": "3.9.7"
  },
  "orig_nbformat": 4
 },
 "nbformat": 4,
 "nbformat_minor": 2
}
