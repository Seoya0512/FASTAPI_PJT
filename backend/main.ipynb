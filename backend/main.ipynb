{
 "cells": [
  {
   "cell_type": "code",
   "execution_count": 49,
   "metadata": {},
   "outputs": [],
   "source": [
    "from typing import Optional\n",
    "\n",
    "# Pydantic을 이용해 파이썬 표준 타입으로 분문을 선언 \n",
    "from pydantic import BaseModel\n",
    "\n",
    "import nest_asyncio\n",
    "from pyngrok import ngrok\n",
    "import uvicorn\n",
    "import json"
   ]
  },
  {
   "cell_type": "code",
   "execution_count": 50,
   "metadata": {},
   "outputs": [
    {
     "name": "stdout",
     "output_type": "stream",
     "text": [
      "{'abc': '1234', 'bcd': '2345', 'cdef': '3456', 'efg': '4567'}\n"
     ]
    }
   ],
   "source": [
    "with open('account.json', 'r') as fp:\n",
    "    account = json.load(fp)\n",
    "print(account)"
   ]
  },
  {
   "cell_type": "code",
   "execution_count": 51,
   "metadata": {},
   "outputs": [
    {
     "name": "stdout",
     "output_type": "stream",
     "text": [
      "{'abc': 30, 'bcd': 5, 'cdef': 35, 'efg': 43}\n"
     ]
    }
   ],
   "source": [
    "with open('pet_num.json', 'r') as fp:\n",
    "    data = json.load(fp)\n",
    "print(data)"
   ]
  },
  {
   "cell_type": "code",
   "execution_count": 52,
   "metadata": {},
   "outputs": [],
   "source": [
    "def pet_sum(user_id:str, pet_num:int):\n",
    "  if user_id in list(data.keys()):\n",
    "    data[user_id]+= pet_num\n",
    "    with open('pet_num.json', 'w') as fp:\n",
    "      json.dump(data,fp)\n",
    "    return data[user_id]\n",
    "  else:\n",
    "    new_m_p = {user_id : pet_num}\n",
    "    data.update(new_m_p)\n",
    "    with open('pet_num.json', 'w') as fp:\n",
    "      json.dump(data,fp)\n",
    "    return data[user_id]"
   ]
  },
  {
   "cell_type": "code",
   "execution_count": 53,
   "metadata": {},
   "outputs": [],
   "source": [
    "# ocr로 입력해서 받는다고 가정한다 \n",
    "def input_id():\n",
    "    user_id = 'abc'\n",
    "    return user_id"
   ]
  },
  {
   "cell_type": "code",
   "execution_count": 54,
   "metadata": {},
   "outputs": [
    {
     "name": "stdout",
     "output_type": "stream",
     "text": [
      "Public URL: http://ae7b-114-203-149-236.ngrok.io\n"
     ]
    },
    {
     "name": "stderr",
     "output_type": "stream",
     "text": [
      "INFO:     Started server process [7343]\n",
      "INFO:     Waiting for application startup.\n",
      "INFO:     Application startup complete.\n",
      "INFO:     Uvicorn running on http://127.0.0.1:8000 (Press CTRL+C to quit)\n"
     ]
    },
    {
     "name": "stdout",
     "output_type": "stream",
     "text": [
      "INFO:     127.0.0.1:56893 - \"GET / HTTP/1.1\" 200 OK\n",
      "INFO:     127.0.0.1:56893 - \"GET /static/images/nolabel.png HTTP/1.1\" 304 Not Modified\n",
      "INFO:     127.0.0.1:56893 - \"GET /docs HTTP/1.1\" 200 OK\n",
      "INFO:     127.0.0.1:56893 - \"GET /openapi.json HTTP/1.1\" 200 OK\n",
      "INFO:     127.0.0.1:56894 - \"GET /pet/?pet_num=5 HTTP/1.1\" 200 OK\n",
      "INFO:     114.203.149.236:0 - \"GET / HTTP/1.1\" 200 OK\n",
      "INFO:     114.203.149.236:0 - \"GET /static/images/nolabel.png HTTP/1.1\" 200 OK\n",
      "INFO:     114.203.149.236:0 - \"GET /favicon.ico HTTP/1.1\" 404 Not Found\n",
      "INFO:     114.203.149.236:0 - \"GET / HTTP/1.1\" 200 OK\n",
      "INFO:     114.203.149.236:0 - \"GET /static/images/pet.png HTTP/1.1\" 200 OK\n",
      "INFO:     114.203.149.236:0 - \"GET / HTTP/1.1\" 200 OK\n",
      "INFO:     114.203.149.236:0 - \"GET / HTTP/1.1\" 200 OK\n"
     ]
    }
   ],
   "source": [
    "from fastapi import FastAPI\n",
    "from fastapi import Request\n",
    "from fastapi.staticfiles import StaticFiles #new\n",
    "from fastapi.templating import Jinja2Templates\n",
    "from fastapi import HTTPException\n",
    "from core.config import settings\n",
    "from apis.general_pages.route_homepage import general_pages_router\n",
    "from fastapi.responses import HTMLResponse\n",
    "\n",
    "templates = Jinja2Templates(directory=\"templates\")\n",
    "\n",
    "def include_router(app):\n",
    "    app.include_router(general_pages_router)\n",
    "\n",
    "\n",
    "def configure_static(app):  #new\n",
    "    app.mount(\"/static\", StaticFiles(directory=\"static\"), name=\"static\")\n",
    "\n",
    "\n",
    "def start_application():\n",
    "    app = FastAPI(title=settings.PROJECT_NAME,version=settings.PROJECT_VERSION)\n",
    "    include_router(app)\n",
    "    configure_static(app) #new\n",
    "    return app\n",
    "\n",
    "app = start_application()\n",
    "\n",
    "# 웹페이지만 나옴 \n",
    "@app.get('/login/')\n",
    "def login(request: Request):\n",
    "    return templates.TemplateResponse(\"auth/login.html\", {\"request\": request})\n",
    "\n",
    "# 로그인 결과 출력 \n",
    "@app.get('/login/result')\n",
    "def info(request: Request, id:str, pw:str):\n",
    "    if id in account.keys():\n",
    "        if account[id] == pw:\n",
    "            print('pass')\n",
    "            return {f'{id}님 성공적으로 로그인하셨습니다.'}\n",
    "        else:\n",
    "            print('fail')\n",
    "            return{'비밀번호를 잘못 입력하셨습니다. 다시 로그인해주세요.'}\n",
    "    else:\n",
    "      return {'회원가입 후 시도해주세요.'}\n",
    "\n",
    "# 페트병 개수 \n",
    "@app.get('/pet/', response_class=HTMLResponse)\n",
    "async def pet(request: Request, pet_num:int):\n",
    "    user_id = input_id()\n",
    "    result = pet_sum(user_id, pet_num)\n",
    "    img = qrcode.make(f'{ngrok_tunnel.public_url}/pet/?pet_num={pet_num}')\n",
    "    img.save('result.png')\n",
    "    return templates.TemplateResponse(\"main.html\", {\"request\": request, 'id':user_id, 'pet_num':result})\n",
    "\n",
    "\n",
    "ngrok_tunnel = ngrok.connect(8000)\n",
    "print('Public URL:', ngrok_tunnel.public_url)\n",
    "nest_asyncio.apply()\n",
    "uvicorn.run(app, port=8000)"
   ]
  }
 ],
 "metadata": {
  "interpreter": {
   "hash": "c725d78b4f5601c8a85ce6b1d2fdb2e37cff07ced64b275a1bb2fdc836d1f30a"
  },
  "kernelspec": {
   "display_name": "Python 3.9.7 64-bit ('base': conda)",
   "name": "python3"
  },
  "language_info": {
   "codemirror_mode": {
    "name": "ipython",
    "version": 3
   },
   "file_extension": ".py",
   "mimetype": "text/x-python",
   "name": "python",
   "nbconvert_exporter": "python",
   "pygments_lexer": "ipython3",
   "version": "3.9.7"
  },
  "orig_nbformat": 4
 },
 "nbformat": 4,
 "nbformat_minor": 2
}
