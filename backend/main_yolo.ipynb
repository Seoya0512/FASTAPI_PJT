{
 "cells": [
  {
   "cell_type": "code",
   "execution_count": null,
   "metadata": {},
   "outputs": [],
   "source": [
    "# colab 실행시 필요한 다운로드\n",
    "\n",
    "#Fast api \n",
    "#!pip install fastapi nest-asyncio pyngrok uvicorn\n",
    "# !pip install aiofiles\n",
    "\n",
    "#qr 코드\n",
    "#!pip install qrcode\n",
    "\n",
    "# yolov4 사용 하려면 4.4.0 버전 이상 OpenCv를 사용해야 함\n",
    "#!pip install --upgrade opencv-python"
   ]
  },
  {
   "cell_type": "code",
   "execution_count": 9,
   "metadata": {},
   "outputs": [],
   "source": [
    "# 필요한 라이브러리 당겨오기 \n",
    "from typing import Optional\n",
    "# Pydantic을 이용해 파이썬 표준 타입으로 분문을 선언 \n",
    "from pydantic import BaseModel\n",
    "import nest_asyncio\n",
    "from pyngrok import ngrok\n",
    "import uvicorn\n",
    "\n",
    "# json, qrcode 라이브러리 가져오기 \n",
    "import json\n",
    "import qrcode\n",
    "\n",
    "# FastAPI  및 웹 관련 라이브러리 가져오기 \n",
    "from fastapi import FastAPI\n",
    "from fastapi import Request\n",
    "from fastapi.staticfiles import StaticFiles #new\n",
    "from fastapi.templating import Jinja2Templates\n",
    "from fastapi import HTTPException\n",
    "from core.config import settings\n",
    "from apis.general_pages.route_homepage import general_pages_router\n",
    "from fastapi.responses import HTMLResponse\n",
    "\n",
    "# 모델 2 필요한 것 \n",
    "import cv2\n",
    "import numpy as np\n",
    "# from google.colab.patches import cv2_imshow # colab에서는 이걸 사용해야함\n",
    "from glob import glob\n",
    "\n",
    "# json 데이터 가져오기 \n",
    "with open('./users/account.json', 'r') as f:\n",
    "    account = json.load(f)\n",
    "with open('./users/pet_num.json', 'r') as fp:\n",
    "    data = json.load(fp)\n",
    "\n",
    "\n",
    "classes = []\n",
    "# class의 이름들\n",
    "with open(\"./data/custom.names\", \"r\") as f:\n",
    "    classes = [line.strip() for line in f.readlines()]\n",
    "\n",
    "# py 파일 가져오기 "
   ]
  },
  {
   "cell_type": "markdown",
   "metadata": {},
   "source": [
    "Module 1 : 사진파일 >> 텍스트 >> id 값 가져오기"
   ]
  },
  {
   "cell_type": "code",
   "execution_count": 11,
   "metadata": {},
   "outputs": [],
   "source": [
    "from module import call_picture"
   ]
  },
  {
   "cell_type": "code",
   "execution_count": 4,
   "metadata": {},
   "outputs": [
    {
     "data": {
      "text/plain": [
       "'PET102'"
      ]
     },
     "execution_count": 4,
     "metadata": {},
     "output_type": "execute_result"
    }
   ],
   "source": [
    "# 카드에서 사용자 ID 인식하기 (OCR 이용)\n",
    "call_picture('./ocr/pet_card2.jpg')"
   ]
  },
  {
   "cell_type": "markdown",
   "metadata": {},
   "source": [
    "Module 2 : YOLO함수 사용해서 페트병 개수 확인하기"
   ]
  },
  {
   "cell_type": "code",
   "execution_count": 3,
   "metadata": {},
   "outputs": [],
   "source": [
    "# Module 2 : YOLO 함수\n",
    "def yolo(frame, size, score_threshold, nms_threshold):\n",
    "    # Module 2 모델에 필요한 것 \n",
    "    import cv2\n",
    "    import numpy as np\n",
    "\n",
    "    net = cv2.dnn.readNetFromDarknet(\"./data/yolov4.cfg\", \"./data/yolov4_last_3000.weights\")\n",
    "    net.setPreferableBackend(cv2.dnn.DNN_BACKEND_CUDA)\n",
    "    net.setPreferableTarget(cv2.dnn.DNN_TARGET_CUDA)\n",
    "    layer_names = net.getLayerNames()\n",
    "\n",
    "    # net.getUnconnectedOutLayers()의 리턴값이 [000, 000, 000] 이었음\n",
    "    output_layers = [layer_names[i - 1] for i in net.getUnconnectedOutLayers()]\n",
    "    # output_layers = [layer_names[i[0] - 1] for i in net.getUnconnectedOutLayers()]\n",
    "    # 클래스의 갯수만큼 랜덤 RGB 배열을 생성\n",
    "    colors = np.random.uniform(0, 255, size=(len(classes), 3))\n",
    "\n",
    "    # 이미지의 높이, 너비, 채널 받아오기\n",
    "    height, width, channels = frame.shape\n",
    "\n",
    "    # 네트워크에 넣기 위한 전처리\n",
    "    blob = cv2.dnn.blobFromImage(frame, 0.00392, (size, size), (0, 0, 0), True, crop=False)\n",
    "\n",
    "    # 전처리된 blob 네트워크에 입력\n",
    "    net.setInput(blob)\n",
    "\n",
    "    # 결과 받아오기\n",
    "    outs = net.forward(output_layers)\n",
    "\n",
    "    # object_data 객체 선언\n",
    "    # 각 데이터들을 저장할 리스트 선언\n",
    "    object_data = {\n",
    "      'class_ids' : [],\n",
    "      'confidences' : [],\n",
    "      'boxes' : [],\n",
    "      'indexes' : -1\n",
    "    }\n",
    "\n",
    "    for out in outs:\n",
    "        for detection in out:\n",
    "            scores = detection[5:]\n",
    "            class_id = np.argmax(scores)\n",
    "            confidence = scores[class_id]\n",
    "\n",
    "            if confidence > 0.1:\n",
    "                # 탐지된 객체의 너비, 높이 및 중앙 좌표값 찾기\n",
    "                center_x = int(detection[0] * width)\n",
    "                center_y = int(detection[1] * height)\n",
    "                w = int(detection[2] * width)\n",
    "                h = int(detection[3] * height)\n",
    "\n",
    "                # 객체의 사각형 테두리 중 좌상단 좌표값 찾기\n",
    "                x = int(center_x - w / 2)\n",
    "                y = int(center_y - h / 2)\n",
    "\n",
    "                object_data['boxes'].append([x, y, w, h])\n",
    "                object_data['confidences'].append(float(confidence))\n",
    "                object_data['class_ids'].append(class_id)\n",
    "\n",
    "    # 후보 박스(x, y, width, height)와 confidence(상자가 물체일 확률) 출력\n",
    "    # print(f\"boxes: {object_data['boxes']}\")\n",
    "    # print(f\"confidences: {object_data['confidences']}\")\n",
    "\n",
    "    # Non Maximum Suppression (겹쳐있는 박스 중 confidence 가 가장 높은 박스를 선택)\n",
    "    indexes = cv2.dnn.NMSBoxes(object_data['boxes'], object_data['confidences'], score_threshold=score_threshold, nms_threshold=nms_threshold)\n",
    "    object_data['indexes'] = indexes\n",
    "\n",
    "    # 후보 박스 중 선택된 박스의 인덱스 출력\n",
    "    # print(f\"indexes: \", end='')\n",
    "    # for index in indexes:\n",
    "    #     print(index, end=' ')\n",
    "    # print(\"\\n\\n============================== classes ==============================\")\n",
    "\n",
    "    for i in range(len(object_data['boxes'])):\n",
    "        if i in indexes:\n",
    "            x, y, w, h = object_data['boxes'][i]\n",
    "            class_name = classes[object_data['class_ids'][i]]\n",
    "            label = f\"{class_name} {object_data['confidences'][i]:.2f}\"\n",
    "            color = colors[object_data['class_ids'][i]]\n",
    "\n",
    "            # 사각형 테두리 그리기 및 텍스트 쓰기\n",
    "            cv2.rectangle(frame, (x, y), (x + w, y + h), color, 2)\n",
    "            cv2.rectangle(frame, (x - 1, y), (x + len(class_name) * 13 + 65, y - 25), color, -1)\n",
    "            cv2.putText(frame, label, (x, y - 8), cv2.FONT_HERSHEY_COMPLEX_SMALL, 1, (0, 0, 0), 2)\n",
    "            \n",
    "            # 탐지된 객체의 정보 출력\n",
    "            print(f\"[{class_name}({i})] conf: {object_data['confidences'][i]} / x: {x} / y: {y} / width: {w} / height: {h}\")\n",
    "\n",
    "    return frame, object_data"
   ]
  },
  {
   "cell_type": "code",
   "execution_count": 4,
   "metadata": {},
   "outputs": [],
   "source": [
    "# Module 2 : pass or fail 알려주고 확인하기 \n",
    "# 올바르게 분류 됐으면 \"올바르게 분류 됐습니다.\"\n",
    "# 올바르게 분류 되지 않았으면 \"방법에 맞게 분류해주세요.\"\n",
    "\n",
    "def pet_total(image_list):\n",
    "    p_count = 0\n",
    "    f_count = 0\n",
    "    n_count = 0\n",
    "\n",
    "    for img in image_list:\n",
    "        image = img\n",
    "        frame = cv2.imread(image)\n",
    "        size = 256\n",
    "\n",
    "        frame, object_data = yolo(frame=frame, size=size, score_threshold=0.4, nms_threshold=0.4)\n",
    "        \n",
    "        try:\n",
    "            flag = object_data['class_ids'][object_data['indexes'][0]] # 이걸 판별해서\n",
    "            #print(f'페트병을 분리함에 넣어주세요.') \n",
    "        except:\n",
    "            #print(f'이미지 인식 실패.')\n",
    "            n_count += 1\n",
    "            continue\n",
    "\n",
    "        if flag == 0:\n",
    "            p_count += 1\n",
    "        else: \n",
    "            f_count += 1\n",
    "\n",
    "    #print(f'총 {p_count + f_count + n_count}의 페트병 중 {p_count}개의 페트병이 통과되었고, {n_count}개의 페트병 이미지는 인식하지 못했습니다.')\n",
    "    return p_count"
   ]
  },
  {
   "cell_type": "code",
   "execution_count": 5,
   "metadata": {},
   "outputs": [],
   "source": [
    "# 아이디, 페트병 개수, 리워드 현황 출력 \n",
    "# json 파일로 변경사항 저장 \n",
    "def pet_sum(user_id:str, pet_num:int):\n",
    "  if user_id in list(data.keys()):\n",
    "    data[user_id]+= pet_num\n",
    "    with open('pet_num.json', 'w') as fp:\n",
    "      json.dump(data,fp)\n",
    "    return data[user_id]\n",
    "  else:\n",
    "    new_m_p = {user_id : pet_num}\n",
    "    data.update(new_m_p)\n",
    "    with open('pet_num.json', 'w') as fp:\n",
    "      json.dump(data,fp)\n",
    "    return data[user_id]"
   ]
  },
  {
   "cell_type": "code",
   "execution_count": 6,
   "metadata": {},
   "outputs": [
    {
     "name": "stderr",
     "output_type": "stream",
     "text": [
      "INFO:     Started server process [13712]\n",
      "INFO:     Waiting for application startup.\n",
      "INFO:     Application startup complete.\n",
      "INFO:     Uvicorn running on http://127.0.0.1:8000 (Press CTRL+C to quit)\n"
     ]
    },
    {
     "name": "stdout",
     "output_type": "stream",
     "text": [
      "Public URL: http://c8fb-114-203-149-236.ngrok.io\n"
     ]
    },
    {
     "name": "stderr",
     "output_type": "stream",
     "text": [
      "[ WARN:0] global /Users/runner/work/opencv-python/opencv-python/opencv/modules/dnn/src/dnn.cpp (1447) setUpNet DNN module was not built with CUDA backend; switching to CPU\n",
      "[ WARN:0] global /Users/runner/work/opencv-python/opencv-python/opencv/modules/dnn/src/dnn.cpp (1447) setUpNet DNN module was not built with CUDA backend; switching to CPU\n",
      "[ WARN:0] global /Users/runner/work/opencv-python/opencv-python/opencv/modules/dnn/src/dnn.cpp (1447) setUpNet DNN module was not built with CUDA backend; switching to CPU\n",
      "[ WARN:0] global /Users/runner/work/opencv-python/opencv-python/opencv/modules/dnn/src/dnn.cpp (1447) setUpNet DNN module was not built with CUDA backend; switching to CPU\n"
     ]
    },
    {
     "name": "stdout",
     "output_type": "stream",
     "text": [
      "[clean(0)] conf: 0.4139142632484436 / x: 774 / y: 403 / width: 1175 / height: 3670\n"
     ]
    },
    {
     "name": "stderr",
     "output_type": "stream",
     "text": [
      "[ WARN:0] global /Users/runner/work/opencv-python/opencv-python/opencv/modules/dnn/src/dnn.cpp (1447) setUpNet DNN module was not built with CUDA backend; switching to CPU\n"
     ]
    },
    {
     "name": "stdout",
     "output_type": "stream",
     "text": [
      "[label(1)] conf: 0.5536813735961914 / x: 335 / y: 797 / width: 2069 / height: 3107\n"
     ]
    },
    {
     "name": "stderr",
     "output_type": "stream",
     "text": [
      "[ WARN:0] global /Users/runner/work/opencv-python/opencv-python/opencv/modules/dnn/src/dnn.cpp (1447) setUpNet DNN module was not built with CUDA backend; switching to CPU\n"
     ]
    },
    {
     "name": "stdout",
     "output_type": "stream",
     "text": [
      "[label(1)] conf: 0.4183119237422943 / x: 492 / y: 541 / width: 1742 / height: 3488\n"
     ]
    },
    {
     "name": "stderr",
     "output_type": "stream",
     "text": [
      "[ WARN:0] global /Users/runner/work/opencv-python/opencv-python/opencv/modules/dnn/src/dnn.cpp (1447) setUpNet DNN module was not built with CUDA backend; switching to CPU\n",
      "[ WARN:0] global /Users/runner/work/opencv-python/opencv-python/opencv/modules/dnn/src/dnn.cpp (1447) setUpNet DNN module was not built with CUDA backend; switching to CPU\n",
      "[ WARN:0] global /Users/runner/work/opencv-python/opencv-python/opencv/modules/dnn/src/dnn.cpp (1447) setUpNet DNN module was not built with CUDA backend; switching to CPU\n",
      "[ WARN:0] global /Users/runner/work/opencv-python/opencv-python/opencv/modules/dnn/src/dnn.cpp (1447) setUpNet DNN module was not built with CUDA backend; switching to CPU\n"
     ]
    },
    {
     "name": "stdout",
     "output_type": "stream",
     "text": [
      "[label(1)] conf: 0.43940865993499756 / x: 867 / y: 281 / width: 1695 / height: 3108\n"
     ]
    },
    {
     "name": "stderr",
     "output_type": "stream",
     "text": [
      "[ WARN:0] global /Users/runner/work/opencv-python/opencv-python/opencv/modules/dnn/src/dnn.cpp (1447) setUpNet DNN module was not built with CUDA backend; switching to CPU\n",
      "[ WARN:0] global /Users/runner/work/opencv-python/opencv-python/opencv/modules/dnn/src/dnn.cpp (1447) setUpNet DNN module was not built with CUDA backend; switching to CPU\n",
      "[ WARN:0] global /Users/runner/work/opencv-python/opencv-python/opencv/modules/dnn/src/dnn.cpp (1447) setUpNet DNN module was not built with CUDA backend; switching to CPU\n"
     ]
    },
    {
     "name": "stdout",
     "output_type": "stream",
     "text": [
      "[label(1)] conf: 0.5120484232902527 / x: 970 / y: -48 / width: 1485 / height: 3847\n"
     ]
    },
    {
     "name": "stderr",
     "output_type": "stream",
     "text": [
      "[ WARN:0] global /Users/runner/work/opencv-python/opencv-python/opencv/modules/dnn/src/dnn.cpp (1447) setUpNet DNN module was not built with CUDA backend; switching to CPU\n",
      "[ WARN:0] global /Users/runner/work/opencv-python/opencv-python/opencv/modules/dnn/src/dnn.cpp (1447) setUpNet DNN module was not built with CUDA backend; switching to CPU\n"
     ]
    },
    {
     "name": "stdout",
     "output_type": "stream",
     "text": [
      "[label(1)] conf: 0.4217129945755005 / x: 2515 / y: 2832 / width: 492 / height: 1201\n"
     ]
    },
    {
     "name": "stderr",
     "output_type": "stream",
     "text": [
      "[ WARN:0] global /Users/runner/work/opencv-python/opencv-python/opencv/modules/dnn/src/dnn.cpp (1447) setUpNet DNN module was not built with CUDA backend; switching to CPU\n",
      "[ WARN:0] global /Users/runner/work/opencv-python/opencv-python/opencv/modules/dnn/src/dnn.cpp (1447) setUpNet DNN module was not built with CUDA backend; switching to CPU\n",
      "[ WARN:0] global /Users/runner/work/opencv-python/opencv-python/opencv/modules/dnn/src/dnn.cpp (1447) setUpNet DNN module was not built with CUDA backend; switching to CPU\n"
     ]
    },
    {
     "name": "stdout",
     "output_type": "stream",
     "text": [
      "[label(1)] conf: 0.5119865536689758 / x: 444 / y: 35 / width: 1821 / height: 3608\n"
     ]
    },
    {
     "name": "stderr",
     "output_type": "stream",
     "text": [
      "[ WARN:0] global /Users/runner/work/opencv-python/opencv-python/opencv/modules/dnn/src/dnn.cpp (1447) setUpNet DNN module was not built with CUDA backend; switching to CPU\n",
      "[ WARN:0] global /Users/runner/work/opencv-python/opencv-python/opencv/modules/dnn/src/dnn.cpp (1447) setUpNet DNN module was not built with CUDA backend; switching to CPU\n"
     ]
    },
    {
     "name": "stdout",
     "output_type": "stream",
     "text": [
      "[clean(3)] conf: 0.44424572587013245 / x: 955 / y: 661 / width: 1416 / height: 3092\n"
     ]
    },
    {
     "name": "stderr",
     "output_type": "stream",
     "text": [
      "[ WARN:0] global /Users/runner/work/opencv-python/opencv-python/opencv/modules/dnn/src/dnn.cpp (1447) setUpNet DNN module was not built with CUDA backend; switching to CPU\n"
     ]
    },
    {
     "name": "stdout",
     "output_type": "stream",
     "text": [
      "[clean(3)] conf: 0.49648359417915344 / x: 741 / y: 493 / width: 1257 / height: 3360\n"
     ]
    },
    {
     "name": "stderr",
     "output_type": "stream",
     "text": [
      "[ WARN:0] global /Users/runner/work/opencv-python/opencv-python/opencv/modules/dnn/src/dnn.cpp (1447) setUpNet DNN module was not built with CUDA backend; switching to CPU\n"
     ]
    },
    {
     "name": "stdout",
     "output_type": "stream",
     "text": [
      "[label(3)] conf: 0.4637562334537506 / x: 624 / y: 814 / width: 1468 / height: 2662\n"
     ]
    },
    {
     "name": "stderr",
     "output_type": "stream",
     "text": [
      "[ WARN:0] global /Users/runner/work/opencv-python/opencv-python/opencv/modules/dnn/src/dnn.cpp (1447) setUpNet DNN module was not built with CUDA backend; switching to CPU\n"
     ]
    },
    {
     "name": "stdout",
     "output_type": "stream",
     "text": [
      "[clean(4)] conf: 0.4549922049045563 / x: 953 / y: 91 / width: 1450 / height: 3527\n"
     ]
    },
    {
     "name": "stderr",
     "output_type": "stream",
     "text": [
      "[ WARN:0] global /Users/runner/work/opencv-python/opencv-python/opencv/modules/dnn/src/dnn.cpp (1447) setUpNet DNN module was not built with CUDA backend; switching to CPU\n"
     ]
    },
    {
     "name": "stdout",
     "output_type": "stream",
     "text": [
      "[clean(2)] conf: 0.41822656989097595 / x: 853 / y: 788 / width: 1587 / height: 2875\n"
     ]
    },
    {
     "name": "stderr",
     "output_type": "stream",
     "text": [
      "[ WARN:0] global /Users/runner/work/opencv-python/opencv-python/opencv/modules/dnn/src/dnn.cpp (1447) setUpNet DNN module was not built with CUDA backend; switching to CPU\n",
      "[ WARN:0] global /Users/runner/work/opencv-python/opencv-python/opencv/modules/dnn/src/dnn.cpp (1447) setUpNet DNN module was not built with CUDA backend; switching to CPU\n",
      "[ WARN:0] global /Users/runner/work/opencv-python/opencv-python/opencv/modules/dnn/src/dnn.cpp (1447) setUpNet DNN module was not built with CUDA backend; switching to CPU\n",
      "[ WARN:0] global /Users/runner/work/opencv-python/opencv-python/opencv/modules/dnn/src/dnn.cpp (1447) setUpNet DNN module was not built with CUDA backend; switching to CPU\n"
     ]
    },
    {
     "name": "stdout",
     "output_type": "stream",
     "text": [
      "INFO:     127.0.0.1:62779 - \"GET /pet/ HTTP/1.1\" 200 OK\n"
     ]
    },
    {
     "name": "stderr",
     "output_type": "stream",
     "text": [
      "[ WARN:0] global /Users/runner/work/opencv-python/opencv-python/opencv/modules/dnn/src/dnn.cpp (1447) setUpNet DNN module was not built with CUDA backend; switching to CPU\n"
     ]
    },
    {
     "name": "stdout",
     "output_type": "stream",
     "text": [
      "INFO:     127.0.0.1:62779 - \"GET /static/images/nolabel.png HTTP/1.1\" 200 OK\n"
     ]
    },
    {
     "name": "stderr",
     "output_type": "stream",
     "text": [
      "INFO:     Shutting down\n",
      "INFO:     Waiting for application shutdown.\n",
      "INFO:     Application shutdown complete.\n",
      "INFO:     Finished server process [13712]\n"
     ]
    }
   ],
   "source": [
    "# Module 3 : API로 결과 출력 \n",
    "\n",
    "templates = Jinja2Templates(directory=\"templates\")\n",
    "\n",
    "def include_router(app):\n",
    "    app.include_router(general_pages_router)\n",
    "\n",
    "\n",
    "def configure_static(app):  #new\n",
    "    app.mount(\"/static\", StaticFiles(directory=\"static\"), name=\"static\")\n",
    "\n",
    "\n",
    "def start_application():\n",
    "    app = FastAPI(title=settings.PROJECT_NAME,version=settings.PROJECT_VERSION)\n",
    "    include_router(app)\n",
    "    configure_static(app) #new\n",
    "    return app\n",
    "\n",
    "app = start_application()\n",
    "\n",
    "# 웹페이지만 나옴 \n",
    "@app.get('/login/')\n",
    "def login(request: Request):\n",
    "    return templates.TemplateResponse(\"auth/login.html\", {\"request\": request})\n",
    "\n",
    "# 페트병 개수 \n",
    "@app.get('/pet/', response_class=HTMLResponse)\n",
    "async def pet(request: Request):\n",
    "    # 사용자 정보 \n",
    "    card = 'pet_card.jpg'\n",
    "    user_id = call_picture(card)\n",
    "    # 페드병 개수 \n",
    "    image_list = glob('./image/*/*/*.jpg')\n",
    "    pet_num = pet_total(image_list)\n",
    "\n",
    "    # 결과\n",
    "    result = pet_sum(user_id, pet_num)\n",
    "    img = qrcode.make(f'{ngrok_tunnel.public_url}/pet/?pet_num={pet_num}')\n",
    "    img.save('result.png')\n",
    "    return templates.TemplateResponse(\"main.html\", {\"request\": request, 'id':user_id, 'pet_num':result})\n",
    "\n",
    "\n",
    "ngrok_tunnel = ngrok.connect(8000)\n",
    "print('Public URL:', ngrok_tunnel.public_url)\n",
    "nest_asyncio.apply()\n",
    "uvicorn.run(app, port=8000)"
   ]
  },
  {
   "cell_type": "markdown",
   "metadata": {},
   "source": [
    "해야하는 일 \n",
    "1. main 파일 정리하기 (함수들은 module.py파일로 묶어서 가져오기 유도)\n",
    "- module.py에 ocr 코드는 삽입 완료 \n",
    "- yolo 함수등은 시도했으나 실패"
   ]
  },
  {
   "cell_type": "markdown",
   "metadata": {},
   "source": []
  }
 ],
 "metadata": {
  "interpreter": {
   "hash": "c725d78b4f5601c8a85ce6b1d2fdb2e37cff07ced64b275a1bb2fdc836d1f30a"
  },
  "kernelspec": {
   "display_name": "Python 3.9.7 64-bit ('base': conda)",
   "name": "python3"
  },
  "language_info": {
   "codemirror_mode": {
    "name": "ipython",
    "version": 3
   },
   "file_extension": ".py",
   "mimetype": "text/x-python",
   "name": "python",
   "nbconvert_exporter": "python",
   "pygments_lexer": "ipython3",
   "version": "3.9.7"
  },
  "orig_nbformat": 4
 },
 "nbformat": 4,
 "nbformat_minor": 2
}
